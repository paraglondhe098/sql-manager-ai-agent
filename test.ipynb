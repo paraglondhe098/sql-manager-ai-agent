{
 "cells": [
  {
   "cell_type": "code",
   "id": "initial_id",
   "metadata": {
    "collapsed": true,
    "ExecuteTime": {
     "end_time": "2025-01-04T18:27:46.760324Z",
     "start_time": "2025-01-04T18:27:44.094918Z"
    }
   },
   "source": [
    "from utils.dbmanager import DBManager\n",
    "from utils.agent import SQLAgent\n",
    "from dotenv import load_dotenv\n",
    "load_dotenv()"
   ],
   "outputs": [
    {
     "data": {
      "text/plain": [
       "True"
      ]
     },
     "execution_count": 1,
     "metadata": {},
     "output_type": "execute_result"
    }
   ],
   "execution_count": 1
  },
  {
   "metadata": {
    "ExecuteTime": {
     "end_time": "2025-01-04T18:27:46.852475Z",
     "start_time": "2025-01-04T18:27:46.767335Z"
    }
   },
   "cell_type": "code",
   "source": "manager = DBManager()",
   "id": "af85447aae35eca4",
   "outputs": [
    {
     "name": "stderr",
     "output_type": "stream",
     "text": [
      "Environment variables loaded successfully!\n",
      "Connected to the database!\n"
     ]
    }
   ],
   "execution_count": 2
  },
  {
   "metadata": {
    "ExecuteTime": {
     "end_time": "2025-01-04T18:27:47.249185Z",
     "start_time": "2025-01-04T18:27:47.224608Z"
    }
   },
   "cell_type": "code",
   "source": "manager.write_query(\"DROP TABLE IF EXISTS Employees\")",
   "id": "1a7898b54c15eb9f",
   "outputs": [],
   "execution_count": 3
  },
  {
   "metadata": {
    "ExecuteTime": {
     "end_time": "2025-01-04T18:27:47.276244Z",
     "start_time": "2025-01-04T18:27:47.255638Z"
    }
   },
   "cell_type": "code",
   "source": [
    "manager.write_query(\"CREATE TABLE Employees (Name VARCHAR(255), Salary INT, Department VARCHAR(255))\")\n",
    "manager.write_query(\"INSERT INTO Employees (Name, Salary, Department) VALUES ('John Doe', 50000, 'Accounting')\")\n",
    "manager.write_query(\"INSERT INTO Employees (Name, Salary, Department) VALUES ('Jane Doe', 60000, 'Accounting')\")"
   ],
   "id": "884d1a970efe9d70",
   "outputs": [],
   "execution_count": 4
  },
  {
   "metadata": {
    "ExecuteTime": {
     "end_time": "2025-01-04T18:27:47.294355Z",
     "start_time": "2025-01-04T18:27:47.283226Z"
    }
   },
   "cell_type": "code",
   "source": "manager.read_query(\"SELECT * FROM Employees\")",
   "id": "a7c297f5727a83f4",
   "outputs": [
    {
     "data": {
      "text/plain": [
       "       Name  Salary  Department\n",
       "0  John Doe   50000  Accounting\n",
       "1  Jane Doe   60000  Accounting"
      ],
      "text/html": [
       "<div>\n",
       "<style scoped>\n",
       "    .dataframe tbody tr th:only-of-type {\n",
       "        vertical-align: middle;\n",
       "    }\n",
       "\n",
       "    .dataframe tbody tr th {\n",
       "        vertical-align: top;\n",
       "    }\n",
       "\n",
       "    .dataframe thead th {\n",
       "        text-align: right;\n",
       "    }\n",
       "</style>\n",
       "<table border=\"1\" class=\"dataframe\">\n",
       "  <thead>\n",
       "    <tr style=\"text-align: right;\">\n",
       "      <th></th>\n",
       "      <th>Name</th>\n",
       "      <th>Salary</th>\n",
       "      <th>Department</th>\n",
       "    </tr>\n",
       "  </thead>\n",
       "  <tbody>\n",
       "    <tr>\n",
       "      <th>0</th>\n",
       "      <td>John Doe</td>\n",
       "      <td>50000</td>\n",
       "      <td>Accounting</td>\n",
       "    </tr>\n",
       "    <tr>\n",
       "      <th>1</th>\n",
       "      <td>Jane Doe</td>\n",
       "      <td>60000</td>\n",
       "      <td>Accounting</td>\n",
       "    </tr>\n",
       "  </tbody>\n",
       "</table>\n",
       "</div>"
      ]
     },
     "execution_count": 5,
     "metadata": {},
     "output_type": "execute_result"
    }
   ],
   "execution_count": 5
  },
  {
   "metadata": {
    "ExecuteTime": {
     "end_time": "2025-01-04T18:27:47.980918Z",
     "start_time": "2025-01-04T18:27:47.328499Z"
    }
   },
   "cell_type": "code",
   "source": [
    "from langchain_groq import ChatGroq\n",
    "model = ChatGroq(model=\"llama3-8b-8192\")"
   ],
   "id": "a84928bf968cdd39",
   "outputs": [],
   "execution_count": 6
  },
  {
   "metadata": {
    "ExecuteTime": {
     "end_time": "2025-01-04T18:27:48.029714Z",
     "start_time": "2025-01-04T18:27:48.011140Z"
    }
   },
   "cell_type": "code",
   "source": "agent = SQLAgent(model, manager)",
   "id": "ea82013e8e10b4bf",
   "outputs": [],
   "execution_count": 7
  },
  {
   "metadata": {
    "ExecuteTime": {
     "end_time": "2025-01-04T18:27:49.414698Z",
     "start_time": "2025-01-04T18:27:48.037741Z"
    }
   },
   "cell_type": "code",
   "source": "agent.get_result(\"Add employee Vyankatesh with salary 200090 in department Accounting\")",
   "id": "65601638fbbfcbe8",
   "outputs": [
    {
     "data": {
      "text/plain": [
       "AgentResponse(query_mode='write', query=\"INSERT INTO employees (Name, Salary, Department) VALUES ('Vyankatesh', 200090, 'Accounting')\", query_output=None, agent_output='The employee Vyankatesh with salary 200090 has been successfully added to the Accounting department.')"
      ]
     },
     "execution_count": 8,
     "metadata": {},
     "output_type": "execute_result"
    }
   ],
   "execution_count": 8
  },
  {
   "metadata": {
    "ExecuteTime": {
     "end_time": "2025-01-04T18:27:49.425517Z",
     "start_time": "2025-01-04T18:27:49.421361Z"
    }
   },
   "cell_type": "code",
   "source": "agent.latest_result",
   "id": "89545b9a1ae9c60f",
   "outputs": [
    {
     "data": {
      "text/plain": [
       "QueryResult(type='write', query=\"INSERT INTO employees (Name, Salary, Department) VALUES ('Vyankatesh', 200090, 'Accounting')\", result=None)"
      ]
     },
     "execution_count": 9,
     "metadata": {},
     "output_type": "execute_result"
    }
   ],
   "execution_count": 9
  },
  {
   "metadata": {
    "ExecuteTime": {
     "end_time": "2025-01-04T18:27:50.772675Z",
     "start_time": "2025-01-04T18:27:49.576964Z"
    }
   },
   "cell_type": "code",
   "source": "agent.get_result(\"Retrieve all unique names of employees having department of Accounting\")",
   "id": "95c1c788e0fc09f9",
   "outputs": [
    {
     "data": {
      "text/plain": [
       "AgentResponse(query_mode='read', query=\"SELECT DISTINCT Name FROM employees WHERE Department='Accounting'\", query_output=         Name\n",
       "0    John Doe\n",
       "1    Jane Doe\n",
       "2  Vyankatesh, agent_output='The employees having the department of Accounting are John Doe, Jane Doe, and Vyankatesh.')"
      ]
     },
     "execution_count": 10,
     "metadata": {},
     "output_type": "execute_result"
    }
   ],
   "execution_count": 10
  },
  {
   "metadata": {
    "ExecuteTime": {
     "end_time": "2025-01-04T18:28:03.425368Z",
     "start_time": "2025-01-04T18:28:02.792165Z"
    }
   },
   "cell_type": "code",
   "source": "agent.get_result_without_agent(\"SELECT * FROM Employes\")",
   "id": "e87097dcd0ee56fd",
   "outputs": [
    {
     "data": {
      "text/plain": [
       "AgentResponse(query_mode='error', query='SELECT * FROM Employes', query_output=None, agent_output='The mistake in the query is that the table name \"Employes\" is spelled incorrectly. The actual table name is \"employees\" in lowercase.\\n\\nThe corrected query would be:\\n\\n```\\nSELECT * FROM employees\\n```\\n\\nThe SQL query is trying to select all columns (`*`) from the \"employees\" table, but it\\'s using a different spelling for the table name, which is causing the error.')"
      ]
     },
     "execution_count": 11,
     "metadata": {},
     "output_type": "execute_result"
    }
   ],
   "execution_count": 11
  },
  {
   "metadata": {},
   "cell_type": "code",
   "outputs": [],
   "execution_count": null,
   "source": "",
   "id": "5261d89fe103566a"
  }
 ],
 "metadata": {
  "kernelspec": {
   "display_name": "Python 3",
   "language": "python",
   "name": "python3"
  },
  "language_info": {
   "codemirror_mode": {
    "name": "ipython",
    "version": 2
   },
   "file_extension": ".py",
   "mimetype": "text/x-python",
   "name": "python",
   "nbconvert_exporter": "python",
   "pygments_lexer": "ipython2",
   "version": "2.7.6"
  }
 },
 "nbformat": 4,
 "nbformat_minor": 5
}
